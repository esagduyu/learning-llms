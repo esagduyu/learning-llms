{
 "cells": [
  {
   "cell_type": "markdown",
   "id": "f73aa520",
   "metadata": {},
   "source": [
    "# Setting up my GPU to be used in Torch\n",
    "\n",
    "I followed [this guide](https://www.freecodecamp.org/news/how-to-setup-windows-machine-for-ml-dl-using-nvidia-graphics-card-cuda/) to set up Ubuntu inside my Windows PC using WSL and support my 2080 TI for CUDA.\n",
    "\n",
    "The below two cells it is indeed working and posting significant speed advantages."
   ]
  },
  {
   "cell_type": "code",
   "execution_count": 1,
   "id": "b82758ae-85b6-42e1-a4bb-3609371ed5f4",
   "metadata": {},
   "outputs": [
    {
     "name": "stdout",
     "output_type": "stream",
     "text": [
      "using cuda device\n"
     ]
    }
   ],
   "source": [
    "import torch\n",
    "\n",
    "if torch.cuda.is_available():\n",
    "    device = torch.device(\"cuda\")\n",
    "else:\n",
    "    device = torch.device(\"cpu\")\n",
    "print(\"using\", device, \"device\") "
   ]
  },
  {
   "cell_type": "code",
   "execution_count": 2,
   "id": "c5dc6d06-0a4a-445b-be8d-a5192410b83f",
   "metadata": {},
   "outputs": [
    {
     "name": "stdout",
     "output_type": "stream",
     "text": [
      "************* CPU SPEED *******************\n",
      "16.74049687385559\n",
      "verify device: cpu\n",
      "************* GPU SPEED *******************\n",
      "0.8857061862945557\n",
      "verify device: cuda:0\n",
      "************* GPU SPEED *******************\n",
      "0.7628509998321533\n",
      "verify device: cuda:0\n",
      "************* GPU SPEED *******************\n",
      "0.7663514614105225\n",
      "verify device: cuda:0\n"
     ]
    }
   ],
   "source": [
    "import time\n",
    "\n",
    "matrix_size = 32*512\n",
    "\n",
    "x = torch.randn(matrix_size, matrix_size)\n",
    "y = torch.randn(matrix_size, matrix_size)\n",
    "\n",
    "print(\"************* CPU SPEED *******************\")\n",
    "start = time.time()\n",
    "result = torch.matmul(x, y)\n",
    "print(time.time() - start)\n",
    "print(\"verify device:\", result.device)\n",
    "\n",
    "x_gpu = x.to(device)\n",
    "y_gpu = y.to(device)\n",
    "torch.cuda.synchronize()\n",
    "\n",
    "for i in range(3):\n",
    "    print(\"************* GPU SPEED *******************\")\n",
    "    start = time.time()\n",
    "    result_gpu = torch.matmul(x_gpu, y_gpu)\n",
    "    torch.cuda.synchronize()\n",
    "    print(time.time() - start)\n",
    "    print(\"verify device:\", result_gpu.device)"
   ]
  }
 ],
 "metadata": {
  "kernelspec": {
   "display_name": "base",
   "language": "python",
   "name": "python3"
  },
  "language_info": {
   "codemirror_mode": {
    "name": "ipython",
    "version": 3
   },
   "file_extension": ".py",
   "mimetype": "text/x-python",
   "name": "python",
   "nbconvert_exporter": "python",
   "pygments_lexer": "ipython3",
   "version": "3.11.5"
  }
 },
 "nbformat": 4,
 "nbformat_minor": 5
}
